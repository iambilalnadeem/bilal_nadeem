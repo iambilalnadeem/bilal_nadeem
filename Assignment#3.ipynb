{
 "cells": [
  {
   "cell_type": "markdown",
   "metadata": {
    "colab_type": "text",
    "id": "LmQUjjp8YTCJ"
   },
   "source": [
    "# Answer # 1"
   ]
  },
  {
   "cell_type": "code",
   "execution_count": 28,
   "metadata": {
    "colab": {
     "base_uri": "https://localhost:8080/",
     "height": 85
    },
    "colab_type": "code",
    "id": "Gv_HQXd2VrQl",
    "outputId": "0d95d0b7-d394-4dfc-a3e7-b02b5926604e"
   },
   "outputs": [
    {
     "name": "stdout",
     "output_type": "stream",
     "text": [
      "enter any number :5\n",
      "enter operator : ^\n",
      "enter any number :5\n",
      "the 5.0 power 5.0 = 3125.0\n"
     ]
    }
   ],
   "source": [
    "inp1=float(input(\"enter any number :\"))\n",
    "op=input(\"enter operator : \")\n",
    "inp2=float(input(\"enter any number :\"))\n",
    "if(op=='+'):\n",
    "  print(\"the\",inp1,\"+\",inp2,\"=\",inp1+inp2)\n",
    "elif(op=='-'):\n",
    "  print(\"the\",inp1,\"-\",inp2,\"=\",inp1-inp2)\n",
    "elif(op=='*'):\n",
    "  print(\"the\",inp1,\"*\",inp2,\"=\",inp1*inp2)\n",
    "elif(op=='/'):\n",
    "  print(\"the\",inp1,\"/\",inp2,\"=\",inp1/inp2)\n",
    "elif(op=='^'):\n",
    "  print(\"the\",inp1,\"power\",inp2,\"=\",inp1**inp2)\n",
    "else:\n",
    "  print(\"you enter wrong operator\")"
   ]
  },
  {
   "cell_type": "markdown",
   "metadata": {
    "colab_type": "text",
    "id": "3mgjvMx8fAd3"
   },
   "source": [
    "# Answer # 2"
   ]
  },
  {
   "cell_type": "code",
   "execution_count": 12,
   "metadata": {
    "colab": {
     "base_uri": "https://localhost:8080/",
     "height": 68
    },
    "colab_type": "code",
    "id": "4ANOTLmPYkV9",
    "outputId": "9f053f1d-9212-453c-ad3a-f4f62412a810"
   },
   "outputs": [
    {
     "name": "stdout",
     "output_type": "stream",
     "text": [
      "the numeric value in list are as follows\n",
      "22\n",
      "33\n"
     ]
    }
   ],
   "source": [
    "checklist=(\"umair\",\"aslam\",\"abdullah\",'22',\"umair\",\"aslam\",'33',\"ahmed\")\n",
    "print(\"the numeric value in list are as follows\")\n",
    "for i in checklist:\n",
    "  if(i.isnumeric()):\n",
    "    print(i)\n",
    "  else:\n",
    "    continue"
   ]
  },
  {
   "cell_type": "markdown",
   "metadata": {
    "colab_type": "text",
    "id": "myyunq8EguT_"
   },
   "source": [
    "# Answer # 3"
   ]
  },
  {
   "cell_type": "code",
   "execution_count": 5,
   "metadata": {
    "colab": {},
    "colab_type": "code",
    "id": "uqwfUwDzg6Fm"
   },
   "outputs": [
    {
     "name": "stdout",
     "output_type": "stream",
     "text": [
      "befor :  {'a': 10, 'b': 20}\n",
      "after :  {'a': 10, 'b': 20, 'c': 30}\n"
     ]
    }
   ],
   "source": [
    "s_dir={'a':10,'b':20}\n",
    "print(\"befor : \",s_dir)\n",
    "s_dir.update({'c':30})\n",
    "print(\"after : \",s_dir)"
   ]
  },
  {
   "cell_type": "markdown",
   "metadata": {},
   "source": [
    "# Answer # 4"
   ]
  },
  {
   "cell_type": "code",
   "execution_count": 11,
   "metadata": {},
   "outputs": [
    {
     "name": "stdout",
     "output_type": "stream",
     "text": [
      "60\n"
     ]
    }
   ],
   "source": [
    "a=0\n",
    "for i in s_dir:\n",
    "    a=a+s_dir[i]\n",
    "print(a)"
   ]
  },
  {
   "cell_type": "markdown",
   "metadata": {},
   "source": [
    "# Answer # 5"
   ]
  },
  {
   "cell_type": "code",
   "execution_count": 25,
   "metadata": {},
   "outputs": [
    {
     "name": "stdout",
     "output_type": "stream",
     "text": [
      "The duplicate values from list are as follows \n",
      "1 )  22\n",
      "2 )  umair\n",
      "3 )  aslam\n"
     ]
    }
   ],
   "source": [
    "checklist=[\"umair\",\"aslam\",'22',\"abdullah\",'22',\"umair\",\"aslam\",'33',\"ahmed\"]\n",
    "f_list=[]\n",
    "a=1\n",
    "print(\"The duplicate values from list are as follows \")\n",
    "for i in checklist:\n",
    "    if i not in f_list:\n",
    "        f_list.append(i)\n",
    "    else:\n",
    "        print(a,') ',i)\n",
    "        a=a+1"
   ]
  },
  {
   "cell_type": "markdown",
   "metadata": {},
   "source": [
    "# Answer # 6"
   ]
  },
  {
   "cell_type": "code",
   "execution_count": 27,
   "metadata": {},
   "outputs": [
    {
     "name": "stdout",
     "output_type": "stream",
     "text": [
      "enter Key of dictionarya\n",
      "the key is present in dictionary\n"
     ]
    }
   ],
   "source": [
    "inp=input(\"enter Key of dictionary\")\n",
    "if inp in s_dir:\n",
    "    print(\"the key is present in dictionary\")\n",
    "else:\n",
    "    print(\"the key not is present in dictionary\")"
   ]
  }
 ],
 "metadata": {
  "colab": {
   "name": "assignment# 3.ipynb",
   "provenance": []
  },
  "kernelspec": {
   "display_name": "Python 3",
   "language": "python",
   "name": "python3"
  },
  "language_info": {
   "codemirror_mode": {
    "name": "ipython",
    "version": 3
   },
   "file_extension": ".py",
   "mimetype": "text/x-python",
   "name": "python",
   "nbconvert_exporter": "python",
   "pygments_lexer": "ipython3",
   "version": "3.7.4"
  }
 },
 "nbformat": 4,
 "nbformat_minor": 1
}
